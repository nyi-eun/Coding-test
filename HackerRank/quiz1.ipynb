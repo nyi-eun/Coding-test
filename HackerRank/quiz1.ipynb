{
 "cells": [
  {
   "cell_type": "markdown",
   "metadata": {},
   "source": [
    "### Quiz 1"
   ]
  },
  {
   "cell_type": "code",
   "execution_count": 50,
   "metadata": {},
   "outputs": [],
   "source": [
    "#Ex) 예제\n",
    "\n",
    "#words = ['inch','cat','chin','kit','act']\n",
    "#output : 3\n",
    "\n",
    "#words = ['pat','tap','apt','bat]\n",
    "#ourput :2\n"
   ]
  },
  {
   "cell_type": "code",
   "execution_count": 51,
   "metadata": {},
   "outputs": [],
   "source": [
    "def getGroupedAnagrams(words):\n",
    "    sorted_words_set = set()\n",
    "    for x in words:\n",
    "        sorted_words_set.add(''.join(sorted(x)))\n",
    "    return len(sorted_words_set)"
   ]
  }
 ],
 "metadata": {
  "kernelspec": {
   "display_name": "text",
   "language": "python",
   "name": "python3"
  },
  "language_info": {
   "codemirror_mode": {
    "name": "ipython",
    "version": 3
   },
   "file_extension": ".py",
   "mimetype": "text/x-python",
   "name": "python",
   "nbconvert_exporter": "python",
   "pygments_lexer": "ipython3",
   "version": "3.8.16"
  }
 },
 "nbformat": 4,
 "nbformat_minor": 2
}
